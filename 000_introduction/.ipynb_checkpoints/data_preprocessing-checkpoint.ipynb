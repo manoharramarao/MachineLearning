{
 "cells": [
  {
   "cell_type": "markdown",
   "metadata": {
    "deletable": true,
    "editable": true
   },
   "source": [
    "# Data preprocessing"
   ]
  },
  {
   "cell_type": "markdown",
   "metadata": {
    "deletable": true,
    "editable": true
   },
   "source": [
    "## Processing data\n",
    "Dataset can be found in ./datasets/data_preprocessing"
   ]
  },
  {
   "cell_type": "code",
   "execution_count": 3,
   "metadata": {
    "collapsed": false,
    "deletable": true,
    "editable": true
   },
   "outputs": [
    {
     "name": "stdout",
     "output_type": "stream",
     "text": [
      "   Country   Age   Salary Purchased\n",
      "0   France  44.0  72000.0        No\n",
      "1    Spain  27.0  48000.0       Yes\n",
      "2  Germany  30.0  54000.0        No\n",
      "3    Spain  38.0  61000.0        No\n",
      "4  Germany  40.0      NaN       Yes\n",
      "5   France  35.0  58000.0       Yes\n",
      "6    Spain   NaN  52000.0        No\n",
      "7   France  48.0  79000.0       Yes\n",
      "8  Germany  50.0  83000.0        No\n",
      "9   France  37.0  67000.0       Yes\n",
      "[['France' 44.0 72000.0]\n",
      " ['Spain' 27.0 48000.0]\n",
      " ['Germany' 30.0 54000.0]\n",
      " ['Spain' 38.0 61000.0]\n",
      " ['Germany' 40.0 nan]\n",
      " ['France' 35.0 58000.0]\n",
      " ['Spain' nan 52000.0]\n",
      " ['France' 48.0 79000.0]\n",
      " ['Germany' 50.0 83000.0]\n",
      " ['France' 37.0 67000.0]]\n",
      "['No' 'Yes' 'No' 'No' 'Yes' 'Yes' 'No' 'Yes' 'No' 'Yes']\n"
     ]
    }
   ],
   "source": [
    "# Import libs\n",
    "import numpy as np\n",
    "import matplotlib.pyplot as plt\n",
    "import pandas as pd\n",
    "\n",
    "# Import dataset\n",
    "dataset = pd.read_csv('../datasets/data_preprocessing/Data.csv')\n",
    "print(dataset)\n",
    "x = dataset.iloc[:, :-1].values\n",
    "y = dataset.iloc[:, 3].values\n",
    "print(x)\n",
    "print(y)"
   ]
  },
  {
   "cell_type": "code",
   "execution_count": 76,
   "metadata": {
    "collapsed": false,
    "deletable": true,
    "editable": true
   },
   "outputs": [
    {
     "name": "stdout",
     "output_type": "stream",
     "text": [
      "[['France' 44.0 72000.0]\n",
      " ['Spain' 27.0 48000.0]\n",
      " ['Germany' 30.0 54000.0]\n",
      " ['Spain' 38.0 61000.0]\n",
      " ['Germany' 40.0 63777.77777777778]\n",
      " ['France' 35.0 58000.0]\n",
      " ['Spain' 38.77777777777778 52000.0]\n",
      " ['France' 48.0 79000.0]\n",
      " ['Germany' 50.0 83000.0]\n",
      " ['France' 37.0 67000.0]]\n"
     ]
    }
   ],
   "source": [
    "# Take care of missing data\n",
    "from sklearn.preprocessing import Imputer\n",
    "imputer = Imputer(missing_values = 'NaN', strategy = 'mean', axis = 0)\n",
    "imputer = imputer.fit(x[:, 1:3])\n",
    "x[:, 1:3] = imputer.transform(x[:, 1:3])\n",
    "print(x)"
   ]
  },
  {
   "cell_type": "code",
   "execution_count": 78,
   "metadata": {
    "collapsed": false,
    "deletable": true,
    "editable": true
   },
   "outputs": [
    {
     "name": "stdout",
     "output_type": "stream",
     "text": [
      "[[     1.         0.         0.        44.     72000.   ]\n",
      " [     0.         0.         1.        27.     48000.   ]\n",
      " [     0.         1.         0.        30.     54000.   ]\n",
      " [     0.         0.         1.        38.     61000.   ]\n",
      " [     0.         1.         0.        40.     63777.778]\n",
      " [     1.         0.         0.        35.     58000.   ]\n",
      " [     0.         0.         1.        38.778  52000.   ]\n",
      " [     1.         0.         0.        48.     79000.   ]\n",
      " [     0.         1.         0.        50.     83000.   ]\n",
      " [     1.         0.         0.        37.     67000.   ]]\n",
      "[[     0.         1.         0.         0.        44.     72000.   ]\n",
      " [     1.         0.         0.         1.        27.     48000.   ]\n",
      " [     1.         0.         1.         0.        30.     54000.   ]\n",
      " [     1.         0.         0.         1.        38.     61000.   ]\n",
      " [     1.         0.         1.         0.        40.     63777.778]\n",
      " [     0.         1.         0.         0.        35.     58000.   ]\n",
      " [     1.         0.         0.         1.        38.778  52000.   ]\n",
      " [     0.         1.         0.         0.        48.     79000.   ]\n",
      " [     1.         0.         1.         0.        50.     83000.   ]\n",
      " [     0.         1.         0.         0.        37.     67000.   ]]\n",
      "[0 1 0 0 1 1 0 1 0 1]\n"
     ]
    }
   ],
   "source": [
    "# Encoding categorical data\n",
    "from sklearn.preprocessing import LabelEncoder, OneHotEncoder\n",
    "label_encoder_x = LabelEncoder()\n",
    "x[:, 0] = label_encoder_x.fit_transform(x[:, 0])\n",
    "print(x)\n",
    "one_hot_encoder = OneHotEncoder(categorical_features = [0])\n",
    "x = one_hot_encoder.fit_transform(x).toarray()\n",
    "np.set_printoptions(precision=3)\n",
    "#np.set_printoptions(suppress=True)\n",
    "print(x)\n",
    "\n",
    "label_encoder_y = LabelEncoder()\n",
    "y = label_encoder_y.fit_transform(y)\n",
    "print(y)"
   ]
  },
  {
   "cell_type": "code",
   "execution_count": 79,
   "metadata": {
    "collapsed": false,
    "deletable": true,
    "editable": true
   },
   "outputs": [
    {
     "name": "stdout",
     "output_type": "stream",
     "text": [
      "[[     1.         0.         1.         0.        40.     63777.778]\n",
      " [     0.         1.         0.         0.        37.     67000.   ]\n",
      " [     1.         0.         0.         1.        27.     48000.   ]\n",
      " [     1.         0.         0.         1.        38.778  52000.   ]\n",
      " [     0.         1.         0.         0.        48.     79000.   ]\n",
      " [     1.         0.         0.         1.        38.     61000.   ]\n",
      " [     0.         1.         0.         0.        44.     72000.   ]\n",
      " [     0.         1.         0.         0.        35.     58000.   ]]\n",
      "[[     1.      0.      1.      0.     30.  54000.]\n",
      " [     1.      0.      1.      0.     50.  83000.]]\n",
      "[1 1 1 0 1 0 0 1]\n",
      "[0 0]\n"
     ]
    }
   ],
   "source": [
    "# Split dataset to train and test sets\n",
    "from sklearn.model_selection import train_test_split\n",
    "x_train, x_test, y_train, y_test = train_test_split(x, y, test_size = 0.2, random_state = 0)\n",
    "print(x_train)\n",
    "print(x_test)\n",
    "print(y_train)\n",
    "print(y_test)\n"
   ]
  },
  {
   "cell_type": "code",
   "execution_count": 83,
   "metadata": {
    "collapsed": false,
    "deletable": true,
    "editable": true,
    "scrolled": true
   },
   "outputs": [
    {
     "name": "stdout",
     "output_type": "stream",
     "text": [
      "[[ 1.    -1.     2.646 -0.775  0.263  0.124]\n",
      " [-1.     1.    -0.378 -0.775 -0.254  0.462]\n",
      " [ 1.    -1.    -0.378  1.291 -1.975 -1.531]\n",
      " [ 1.    -1.    -0.378  1.291  0.053 -1.111]\n",
      " [-1.     1.    -0.378 -0.775  1.641  1.72 ]\n",
      " [ 1.    -1.    -0.378  1.291 -0.081 -0.168]\n",
      " [-1.     1.    -0.378 -0.775  0.952  0.986]\n",
      " [-1.     1.    -0.378 -0.775 -0.598 -0.482]]\n",
      "[[ 1.    -1.     2.646 -0.775 -1.459 -0.902]\n",
      " [ 1.    -1.     2.646 -0.775  1.985  2.14 ]]\n"
     ]
    }
   ],
   "source": [
    "# feature scaling\n",
    "from sklearn.preprocessing import StandardScaler\n",
    "sc_x = StandardScaler()\n",
    "x_train = sc_x.fit_transform(x_train)\n",
    "x_test = sc_x.transform(x_test)\n",
    "print(x_train)\n",
    "print(x_test)"
   ]
  },
  {
   "cell_type": "markdown",
   "metadata": {
    "collapsed": true,
    "deletable": true,
    "editable": true
   },
   "source": [
    "-----------------------------------------------------------------------"
   ]
  },
  {
   "cell_type": "markdown",
   "metadata": {
    "deletable": true,
    "editable": true
   },
   "source": [
    "# List of APIs used\n",
    "\n",
    "1. pandas.read_csv()\n",
    "2. sklearn.preprocessing.imputer.fit()\n",
    "3. sklearn.preprocessing.LabelEncoder.fit_transform()\n",
    "4. sklearn.preprocessing.OneHotEncoder.fit_transform()\n",
    "5. sklearn.model_selection.train_test_split\n",
    "6. sklearn.preprocessing.StandardScaler.fit_transform()\n",
    "\n",
    "## List of packages uses\n",
    "1. numpy\n",
    "2. sklearn\n",
    "3. pandas"
   ]
  }
 ],
 "metadata": {
  "kernelspec": {
   "display_name": "Python 3",
   "language": "python",
   "name": "python3"
  },
  "language_info": {
   "codemirror_mode": {
    "name": "ipython",
    "version": 3
   },
   "file_extension": ".py",
   "mimetype": "text/x-python",
   "name": "python",
   "nbconvert_exporter": "python",
   "pygments_lexer": "ipython3",
   "version": "3.5.2"
  }
 },
 "nbformat": 4,
 "nbformat_minor": 2
}
